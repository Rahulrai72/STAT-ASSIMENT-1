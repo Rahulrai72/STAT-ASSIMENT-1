{
 "cells": [
  {
   "cell_type": "code",
   "execution_count": null,
   "id": "1214d6c0-5bc5-4c52-8216-e6b0a3e99bd8",
   "metadata": {},
   "outputs": [],
   "source": [
    "### \"STAT ASSIMENT\"\n"
   ]
  },
  {
   "cell_type": "code",
   "execution_count": null,
   "id": "f96b6d33-2ba2-42df-92eb-12e1727d9fc3",
   "metadata": {},
   "outputs": [],
   "source": [
    "##Q1- What is Statistics?"
   ]
  },
  {
   "cell_type": "code",
   "execution_count": null,
   "id": "c25c61f4-0c18-4d2e-b7ad-a74a5a64969e",
   "metadata": {},
   "outputs": [],
   "source": [
    "### ANS- Statistics is a branch of mathematics that deals with collecting, analyzing, interpreting, presenting, and organizing data. It provides methods to extract meaningful information and make decisions based on data."
   ]
  },
  {
   "cell_type": "code",
   "execution_count": null,
   "id": "0aa684be-2ba2-4a80-9fe9-8f42db6cbc47",
   "metadata": {},
   "outputs": [],
   "source": [
    "### Q2. Define the different types of statistics and give an example of when each type might be used."
   ]
  },
  {
   "cell_type": "code",
   "execution_count": null,
   "id": "e6f59f18-ecc9-431a-95d7-0f112e9ee106",
   "metadata": {},
   "outputs": [],
   "source": [
    "### ANS 2-  There are two main types of statistics:\n",
    "\n",
    "Descriptive Statistics: These involve organizing, summarizing, and presenting data in a meaningful way. They aim to describe the main features of a dataset.\n",
    "\n",
    "Example: Calculating the mean, median, and mode of a set of exam scores.\n",
    "\n",
    "Inferential Statistics: These involve making predictions or inferences about a population based on a sample of data. They help us draw conclusions and make decisions about a larger group.\n",
    "\n",
    "Example: Using sample data to estimate the average height of all students in a school."
   ]
  },
  {
   "cell_type": "code",
   "execution_count": null,
   "id": "db3d2caa-34b9-4844-a38b-18f3a822a6d8",
   "metadata": {},
   "outputs": [],
   "source": [
    "###Q3- What are the different types of data and how do they differ from each other? Provide an example of each type of data."
   ]
  },
  {
   "cell_type": "code",
   "execution_count": null,
   "id": "67285034-62fe-4a66-b5d1-20a06645108d",
   "metadata": {},
   "outputs": [],
   "source": [
    "### ANS3-Qualitative Data (Categorical Data): This type of data represents categories or labels and cannot be measured in numerical terms. It is often divided into two subtypes:\n",
    "\n",
    "Nominal Data: Categories have no inherent order or ranking. Example: Colors (red, blue, green).\n",
    "\n",
    "Ordinal Data: Categories have a meaningful order or ranking. Example: Education levels (high school, bachelor's, master's).\n",
    "\n",
    "Quantitative Data (Numerical Data): This type of data represents measurable quantities and can be expressed in numerical terms. It is also divided into two subtypes:\n",
    "\n",
    "Discrete Data: Consists of distinct, separate values that can be counted. Example: Number of students in a class.\n",
    "\n",
    "Continuous Data: Can take on any value within a range and can be measured with any level of precision. Example: Height of students."
   ]
  },
  {
   "cell_type": "code",
   "execution_count": null,
   "id": "6cbf28b8-96c9-4300-acd2-f87d63db07bd",
   "metadata": {},
   "outputs": [],
   "source": [
    "### Q4- Categorise the following datasets with respect to quantitative and qualitative data types:"
   ]
  },
  {
   "cell_type": "code",
   "execution_count": null,
   "id": "bfce0a03-56e0-43cb-b2f7-dd0ee1025017",
   "metadata": {},
   "outputs": [],
   "source": [
    "### ANS4- (i) Grading in exam: Qualitative (Ordinal)\n",
    "\n",
    "(ii) Colour of mangoes: Qualitative (Nominal)\n",
    "\n",
    "(iii) Height data of a class: Quantitative (Continuous)\n",
    "\n",
    "(iv) Number of mangoes exported by a farm: Quantitative (Discrete)\n",
    "\n"
   ]
  },
  {
   "cell_type": "code",
   "execution_count": null,
   "id": "008147c9-f63f-41d2-8ad2-592c5a5f2500",
   "metadata": {},
   "outputs": [],
   "source": [
    "### Q5. Explain the concept of levels of measurement and give an example of a variable for each level.\n",
    "\n"
   ]
  },
  {
   "cell_type": "code",
   "execution_count": null,
   "id": "b1796473-84f8-4e86-a321-755f46542f02",
   "metadata": {},
   "outputs": [],
   "source": [
    "### ANS-5 \"\"\" Nominal Level: This is the lowest level of measurement where variables are categorized into distinct, unordered groups. \n",
    "\n",
    "Example: Colors (red, blue, green).\n",
    "\n",
    "Ordinal Level: Variables have a meaningful order, but the intervals between them are not consistent or meaningful.\n",
    "Example: Education levels (high school, bachelor's, master's).\n",
    "\n",
    "Interval Level: Variables have a meaningful order, and the intervals between them are consistent and meaningful, but there is no true zero point. \n",
    "Example: Temperature in Celsius.\n",
    "\n",
    "Ratio Level: Variables have a meaningful order, the intervals are consistent and meaningful, and there is a true zero point, meaning that ratios are meaningful.\n",
    "Example: Height in centimeters."
   ]
  },
  {
   "cell_type": "code",
   "execution_count": null,
   "id": "d6b1c1a9-6ad4-4624-b796-49d41e2f01e4",
   "metadata": {},
   "outputs": [],
   "source": [
    "###Q6. Why is it important to understand the level of measurement when analyzing data? Provide an example to illustrate your answer.\n",
    "\n"
   ]
  },
  {
   "cell_type": "code",
   "execution_count": null,
   "id": "aa8704bb-2669-4562-a192-b4539551b3da",
   "metadata": {},
   "outputs": [],
   "source": [
    "###-ANS6- A6. Understanding the level of measurement is crucial because it determines the types of analyses that can be performed on the data. For example, you can perform more advanced operations (like multiplication, division) on ratio data, but not on ordinal data.\n",
    "\n",
    "For instance, comparing temperatures in Celsius (interval level) can tell you that 30°C is warmer than 20°C, but it doesn't imply that 60°C is twice as hot as 30°C because there's no true zero. In contrast, with ratio data like height in centimeters, you can say that 180 cm is twice as tall as 90 cm because there's a true zero point.\n",
    "\n",
    "Understanding the level of measurement helps in choosing the appropriate statistical techniques and drawing accurate conclusions from the data"
   ]
  },
  {
   "cell_type": "code",
   "execution_count": null,
   "id": "49eee577-4fbf-4278-82f6-d86313960222",
   "metadata": {},
   "outputs": [],
   "source": [
    "### Q7. How is nominal data type different from ordinal data type?"
   ]
  },
  {
   "cell_type": "code",
   "execution_count": null,
   "id": "ae7551a3-ef5c-4c70-8862-f46dfd582dd3",
   "metadata": {},
   "outputs": [],
   "source": [
    "Nominal data represents categories with no inherent order or ranking. Examples include colors, types of fruits, or genders. Ordinal data, on the other hand, represents categories with a meaningful order or ranking. For example, education levels (e.g., high school, bachelor's, master's) or customer satisfaction ratings (e.g., very unsatisfied, unsatisfied, neutral, satisfied, very satisfied).### ANS7-"
   ]
  },
  {
   "cell_type": "code",
   "execution_count": null,
   "id": "002118d6-feab-44a4-a647-ceb6e3c26df8",
   "metadata": {},
   "outputs": [],
   "source": [
    "### Q8. Which type of plot can be used to display data in terms of range?"
   ]
  },
  {
   "cell_type": "code",
   "execution_count": null,
   "id": "21e49bd2-44b1-4085-b0bb-cf0a4673332c",
   "metadata": {},
   "outputs": [],
   "source": [
    "###-ANS-8 A box plot or box-and-whisker plot is particularly useful for displaying data in terms of range. It provides a visual representation of the spread and distribution of a dataset, including the minimum, first quartile, median, third quartile, and maximum."
   ]
  },
  {
   "cell_type": "code",
   "execution_count": null,
   "id": "e3a2799f-d391-4e2e-bd87-0d6202e18e05",
   "metadata": {},
   "outputs": [],
   "source": [
    "###-Q9- Describe the difference between descriptive and inferential statistics. Give an example of each type of statistics and explain how they are used.\n",
    "\n"
   ]
  },
  {
   "cell_type": "code",
   "execution_count": null,
   "id": "953fd7ae-10c8-457d-abc2-3b308a21075a",
   "metadata": {},
   "outputs": [],
   "source": [
    "### ANS 9- Descriptive Statistics: Descriptive statistics involve organizing, summarizing, and presenting data in a meaningful way. It aims to describe the main features of a dataset. An example would be calculating the mean, median, and mode of exam scores. This helps in understanding the central tendency, variability, and shape of the data.\n",
    "\n",
    "Inferential Statistics: Inferential statistics involve making predictions or inferences about a population based on a sample of data. It helps in drawing conclusions and making decisions about a larger group. For example, using a sample of 100 students to estimate the average height of all students in a school. Inferential statistics provide methods to quantify the uncertainty associated with making such predictions.\n"
   ]
  },
  {
   "cell_type": "code",
   "execution_count": null,
   "id": "c7b10bc3-21d1-4a5c-95ed-2c16475b878b",
   "metadata": {},
   "outputs": [],
   "source": [
    "### Q10- What are some common measures of central tendency and variability used in statistics? Explain how each measure can be used to describe a dataset."
   ]
  },
  {
   "cell_type": "code",
   "execution_count": null,
   "id": "6a9feb37-41ef-4220-b4e0-87be66207e6f",
   "metadata": {},
   "outputs": [],
   "source": [
    "### ANS 10- Measures of Central Tendency:\n",
    "\n",
    "Mean: It's the average of all the values in a dataset. It gives an idea of the \"typical\" value. However, it can be influenced by outliers.\n",
    "\n",
    "Median: The middle value when the data set is arranged in ascending order. It's not affected by extreme values and is useful for skewed data.\n",
    "\n",
    "Mode: The value that occurs most frequently in the dataset. It's useful for categorical data or data with distinct peaks.\n",
    "\n",
    "Measures of Variability:\n",
    "\n",
    "Range: The difference between the largest and smallest value. It provides a simple measure of spread.\n",
    "\n",
    "Variance: It measures how far a set of numbers are spread out from their average. A higher variance indicates greater spread.\n",
    "\n",
    "Standard Deviation: The square root of the variance. It provides a measure of the average distance between each data point and the mean. A lower standard deviation indicates that data points tend to be close to the mean."
   ]
  }
 ],
 "metadata": {
  "kernelspec": {
   "display_name": "Python 3 (ipykernel)",
   "language": "python",
   "name": "python3"
  },
  "language_info": {
   "codemirror_mode": {
    "name": "ipython",
    "version": 3
   },
   "file_extension": ".py",
   "mimetype": "text/x-python",
   "name": "python",
   "nbconvert_exporter": "python",
   "pygments_lexer": "ipython3",
   "version": "3.10.8"
  }
 },
 "nbformat": 4,
 "nbformat_minor": 5
}
